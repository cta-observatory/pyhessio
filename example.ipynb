{
 "cells": [
  {
   "cell_type": "markdown",
   "metadata": {},
   "source": [
    "# pyhessio notebook example\n",
    "\n",
    "## It is mandatory to open hessio MC file with pyhessio context manager.\n",
    "This notebook shows 2 differents ways of looping over data and 2 differents ways of looping over MC data"
   ]
  },
  {
   "cell_type": "code",
   "execution_count": 1,
   "metadata": {
    "collapsed": true
   },
   "outputs": [],
   "source": [
    "from pyhessio import open_hessio, HessioError, count_mc_generated_events"
   ]
  },
  {
   "cell_type": "markdown",
   "metadata": {},
   "source": [
    "### Get the number of simulated events (including re-uses of showers):"
   ]
  },
  {
   "cell_type": "code",
   "execution_count": 2,
   "metadata": {},
   "outputs": [
    {
     "name": "stdout",
     "output_type": "stream",
     "text": [
      "400000\n"
     ]
    }
   ],
   "source": [
    "NumEvents = count_mc_generated_events('pyhessio-extra/datasets/gamma_test_large.simtel.gz')\n",
    "print(NumEvents)"
   ]
  },
  {
   "cell_type": "code",
   "execution_count": 3,
   "metadata": {},
   "outputs": [
    {
     "name": "stdout",
     "output_type": "stream",
     "text": [
      "400000\n"
     ]
    }
   ],
   "source": [
    "NumEvents = count_mc_generated_events('pyhessio-extra/datasets/gamma_20deg_0deg_run10251___cta-prod3-merged_desert-2150m-Paranal-subarray-3_cone10.hdata.gz')\n",
    "print(NumEvents)"
   ]
  },
  {
   "cell_type": "code",
   "execution_count": 4,
   "metadata": {},
   "outputs": [
    {
     "name": "stdout",
     "output_type": "stream",
     "text": [
      "800000\n"
     ]
    }
   ],
   "source": [
    "NumEvents = count_mc_generated_events('pyhessio-extra/datasets/TwoHistogramBlocks.hdata.gz')\n",
    "print(NumEvents)"
   ]
  },
  {
   "cell_type": "markdown",
   "metadata": {},
   "source": [
    "### loop over the 5 first events using generator function move_to_next_event"
   ]
  },
  {
   "cell_type": "code",
   "execution_count": 4,
   "metadata": {},
   "outputs": [
    {
     "name": "stdout",
     "output_type": "stream",
     "text": [
      "run id 31964:, event number: 408\n",
      "    Triggered telescopes for this event: [38 47]\n",
      "run id 31964:, event number: 409\n",
      "    Triggered telescopes for this event: [ 11  21  24  26  61  63 118 119]\n",
      "run id 31964:, event number: 803\n",
      "    Triggered telescopes for this event: [ 17 104 124]\n",
      "run id 31964:, event number: 4907\n",
      "    Triggered telescopes for this event: [ 1  2  4 14 15 17 19]\n",
      "run id 31964:, event number: 9508\n",
      "    Triggered telescopes for this event: [ 2  3  4 10 12 25]\n"
     ]
    }
   ],
   "source": [
    "with open_hessio('pyhessio-extra/datasets/gamma_test.simtel.gz') as event:\n",
    "    for event_id in event.move_to_next_event(limit=5):\n",
    "        print('run id {}:, event number: {}'.format(event.get_run_number() , event_id))\n",
    "        print('    Triggered telescopes for this event: {}'.format(event.get_telescope_with_data_list()))"
   ]
  },
  {
   "cell_type": "markdown",
   "metadata": {},
   "source": [
    "### loop over event using function fill_next_event and catch HessioError Exception "
   ]
  },
  {
   "cell_type": "code",
   "execution_count": 5,
   "metadata": {},
   "outputs": [
    {
     "name": "stdout",
     "output_type": "stream",
     "text": [
      "run id 31964:, event number: 408\n",
      "    Triggered telescopes for this event: [38 47]\n",
      "run id 31964:, event number: 409\n",
      "    Triggered telescopes for this event: [ 11  21  24  26  61  63 118 119]\n",
      "run id 31964:, event number: 803\n",
      "    Triggered telescopes for this event: [ 17 104 124]\n",
      "run id 31964:, event number: 4907\n",
      "    Triggered telescopes for this event: [ 1  2  4 14 15 17 19]\n",
      "run id 31964:, event number: 9508\n",
      "    Triggered telescopes for this event: [ 2  3  4 10 12 25]\n",
      "run id 31964:, event number: 10104\n",
      "    Triggered telescopes for this event: [ 8 16]\n",
      "run id 31964:, event number: 10109\n",
      "    Triggered telescopes for this event: [26 28]\n",
      "run id 31964:, event number: 11905\n",
      "    Triggered telescopes for this event: [1 3 4]\n",
      "run id 31964:, event number: 12202\n",
      "    Triggered telescopes for this event: [  9  12  25  62  71 102 110 117 126]\n"
     ]
    }
   ],
   "source": [
    "with open_hessio('pyhessio-extra/datasets/gamma_test.simtel.gz') as event:\n",
    "    while True:\n",
    "        try:\n",
    "            event_id = event.fill_next_event()\n",
    "            print('run id {}:, event number: {}'.format(event.get_run_number() , event_id))\n",
    "            print('    Triggered telescopes for this event: {}'.format(event.get_telescope_with_data_list()))\n",
    "        except HessioError:\n",
    "            break"
   ]
  },
  {
   "cell_type": "markdown",
   "metadata": {},
   "source": [
    "### loop over the 10 first MC events using generator function move_to_next_event "
   ]
  },
  {
   "cell_type": "code",
   "execution_count": 6,
   "metadata": {},
   "outputs": [
    {
     "name": "stdout",
     "output_type": "stream",
     "text": [
      "run id 31964:, event number: 408\n",
      "    Shower energy: 0.3820943236351013\n",
      "run id 31964:, event number: 409\n",
      "    Shower energy: 0.3820943236351013\n",
      "run id 31964:, event number: 803\n",
      "    Shower energy: 0.2217816561460495\n",
      "run id 31964:, event number: 4907\n",
      "    Shower energy: 0.06210866943001747\n",
      "run id 31964:, event number: 9508\n",
      "    Shower energy: 0.06830974668264389\n",
      "run id 31964:, event number: 10104\n",
      "    Shower energy: 0.08499287813901901\n",
      "run id 31964:, event number: 10109\n",
      "    Shower energy: 0.08499287813901901\n",
      "run id 31964:, event number: 11905\n",
      "    Shower energy: 0.02509460598230362\n",
      "run id 31964:, event number: 12202\n",
      "    Shower energy: 0.6279199719429016\n"
     ]
    }
   ],
   "source": [
    "with open_hessio('pyhessio-extra/datasets/gamma_test.simtel.gz') as event:\n",
    "    for event_id in event.move_to_next_event(limit=10):\n",
    "        print('run id {}:, event number: {}'.format(event.get_run_number() , event_id))\n",
    "        print('    Shower energy: {}'.format(event.get_mc_shower_energy()))"
   ]
  },
  {
   "cell_type": "markdown",
   "metadata": {},
   "source": [
    "### loop over the 10 first MC event using function move_to_next_mc_event "
   ]
  },
  {
   "cell_type": "code",
   "execution_count": 7,
   "metadata": {},
   "outputs": [
    {
     "ename": "AttributeError",
     "evalue": "'HessioFile' object has no attribute 'fill_next_mc_event'",
     "output_type": "error",
     "traceback": [
      "\u001b[0;31m---------------------------------------------------------------------------\u001b[0m",
      "\u001b[0;31mAttributeError\u001b[0m                            Traceback (most recent call last)",
      "\u001b[0;32m<ipython-input-7-7b55eccd11cd>\u001b[0m in \u001b[0;36m<module>\u001b[0;34m()\u001b[0m\n\u001b[1;32m      3\u001b[0m     \u001b[0;32mwhile\u001b[0m \u001b[0mnb_read_event\u001b[0m \u001b[0;34m<\u001b[0m \u001b[0;36m10\u001b[0m\u001b[0;34m:\u001b[0m\u001b[0;34m\u001b[0m\u001b[0m\n\u001b[1;32m      4\u001b[0m         \u001b[0;32mtry\u001b[0m\u001b[0;34m:\u001b[0m\u001b[0;34m\u001b[0m\u001b[0m\n\u001b[0;32m----> 5\u001b[0;31m             \u001b[0mevent_id\u001b[0m \u001b[0;34m=\u001b[0m \u001b[0mevent\u001b[0m\u001b[0;34m.\u001b[0m\u001b[0mfill_next_mc_event\u001b[0m\u001b[0;34m(\u001b[0m\u001b[0;34m)\u001b[0m\u001b[0;34m\u001b[0m\u001b[0m\n\u001b[0m\u001b[1;32m      6\u001b[0m             \u001b[0mprint\u001b[0m\u001b[0;34m(\u001b[0m\u001b[0;34m'run id {}:, event number: {}'\u001b[0m\u001b[0;34m.\u001b[0m\u001b[0mformat\u001b[0m\u001b[0;34m(\u001b[0m\u001b[0mevent\u001b[0m\u001b[0;34m.\u001b[0m\u001b[0mget_run_number\u001b[0m\u001b[0;34m(\u001b[0m\u001b[0;34m)\u001b[0m \u001b[0;34m,\u001b[0m \u001b[0mevent_id\u001b[0m\u001b[0;34m)\u001b[0m\u001b[0;34m)\u001b[0m\u001b[0;34m\u001b[0m\u001b[0m\n\u001b[1;32m      7\u001b[0m             \u001b[0mprint\u001b[0m\u001b[0;34m(\u001b[0m\u001b[0;34m'    Shower energy: {}'\u001b[0m\u001b[0;34m.\u001b[0m\u001b[0mformat\u001b[0m\u001b[0;34m(\u001b[0m\u001b[0mevent\u001b[0m\u001b[0;34m.\u001b[0m\u001b[0mget_mc_shower_energy\u001b[0m\u001b[0;34m(\u001b[0m\u001b[0;34m)\u001b[0m\u001b[0;34m)\u001b[0m\u001b[0;34m)\u001b[0m\u001b[0;34m\u001b[0m\u001b[0m\n",
      "\u001b[0;31mAttributeError\u001b[0m: 'HessioFile' object has no attribute 'fill_next_mc_event'"
     ]
    }
   ],
   "source": [
    "with open_hessio('pyhessio-extra/datasets/gamma_test.simtel.gz') as event:\n",
    "    nb_read_event = 0\n",
    "    while nb_read_event < 10:\n",
    "        try:\n",
    "            event_id = event.fill_next_mc_event()\n",
    "            print('run id {}:, event number: {}'.format(event.get_run_number() , event_id))\n",
    "            print('    Shower energy: {}'.format(event.get_mc_shower_energy()))\n",
    "            nb_read_event += 1\n",
    "        except HessioError:\n",
    "            break"
   ]
  },
  {
   "cell_type": "code",
   "execution_count": null,
   "metadata": {
    "collapsed": true
   },
   "outputs": [],
   "source": [
    "|"
   ]
  }
 ],
 "metadata": {
  "anaconda-cloud": {},
  "celltoolbar": "Raw Cell Format",
  "kernelspec": {
   "display_name": "Python 3",
   "language": "python",
   "name": "python3"
  },
  "language_info": {
   "codemirror_mode": {
    "name": "ipython",
    "version": 3
   },
   "file_extension": ".py",
   "mimetype": "text/x-python",
   "name": "python",
   "nbconvert_exporter": "python",
   "pygments_lexer": "ipython3",
   "version": "3.5.1"
  }
 },
 "nbformat": 4,
 "nbformat_minor": 1
}
